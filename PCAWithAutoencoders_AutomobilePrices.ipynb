{
 "cells": [
  {
   "cell_type": "code",
   "execution_count": 2,
   "metadata": {},
   "outputs": [],
   "source": [
    "import numpy as np\n",
    "import pandas as pd\n",
    "import tensorflow as tf"
   ]
  },
  {
   "cell_type": "code",
   "execution_count": 3,
   "metadata": {},
   "outputs": [],
   "source": [
    "from sklearn.decomposition import PCA"
   ]
  },
  {
   "cell_type": "code",
   "execution_count": 5,
   "metadata": {},
   "outputs": [
    {
     "name": "stdout",
     "output_type": "stream",
     "text": [
      "1.13.1\n",
      "1.16.2\n",
      "0.24.2\n"
     ]
    }
   ],
   "source": [
    "print (tf.__version__)\n",
    "print (np.__version__)\n",
    "print (pd.__version__)"
   ]
  },
  {
   "cell_type": "code",
   "execution_count": 24,
   "metadata": {},
   "outputs": [
    {
     "data": {
      "text/html": [
       "<div>\n",
       "<style scoped>\n",
       "    .dataframe tbody tr th:only-of-type {\n",
       "        vertical-align: middle;\n",
       "    }\n",
       "\n",
       "    .dataframe tbody tr th {\n",
       "        vertical-align: top;\n",
       "    }\n",
       "\n",
       "    .dataframe thead th {\n",
       "        text-align: right;\n",
       "    }\n",
       "</style>\n",
       "<table border=\"1\" class=\"dataframe\">\n",
       "  <thead>\n",
       "    <tr style=\"text-align: right;\">\n",
       "      <th></th>\n",
       "      <th>symboling</th>\n",
       "      <th>normalized-losses</th>\n",
       "      <th>make</th>\n",
       "      <th>fuel-type</th>\n",
       "      <th>aspiration</th>\n",
       "      <th>num-of-doors</th>\n",
       "      <th>body-style</th>\n",
       "      <th>drive-wheels</th>\n",
       "      <th>engine-location</th>\n",
       "      <th>wheel-base</th>\n",
       "      <th>...</th>\n",
       "      <th>engine-size</th>\n",
       "      <th>fuel-system</th>\n",
       "      <th>bore</th>\n",
       "      <th>stroke</th>\n",
       "      <th>compression-ratio</th>\n",
       "      <th>horsepower</th>\n",
       "      <th>peak-rpm</th>\n",
       "      <th>city-mpg</th>\n",
       "      <th>highway-mpg</th>\n",
       "      <th>price</th>\n",
       "    </tr>\n",
       "  </thead>\n",
       "  <tbody>\n",
       "    <tr>\n",
       "      <th>0</th>\n",
       "      <td>3</td>\n",
       "      <td>?</td>\n",
       "      <td>alfa-romero</td>\n",
       "      <td>gas</td>\n",
       "      <td>std</td>\n",
       "      <td>two</td>\n",
       "      <td>convertible</td>\n",
       "      <td>rwd</td>\n",
       "      <td>front</td>\n",
       "      <td>88.6</td>\n",
       "      <td>...</td>\n",
       "      <td>130</td>\n",
       "      <td>mpfi</td>\n",
       "      <td>3.47</td>\n",
       "      <td>2.68</td>\n",
       "      <td>9.0</td>\n",
       "      <td>111</td>\n",
       "      <td>5000</td>\n",
       "      <td>21</td>\n",
       "      <td>27</td>\n",
       "      <td>13495</td>\n",
       "    </tr>\n",
       "    <tr>\n",
       "      <th>1</th>\n",
       "      <td>3</td>\n",
       "      <td>?</td>\n",
       "      <td>alfa-romero</td>\n",
       "      <td>gas</td>\n",
       "      <td>std</td>\n",
       "      <td>two</td>\n",
       "      <td>convertible</td>\n",
       "      <td>rwd</td>\n",
       "      <td>front</td>\n",
       "      <td>88.6</td>\n",
       "      <td>...</td>\n",
       "      <td>130</td>\n",
       "      <td>mpfi</td>\n",
       "      <td>3.47</td>\n",
       "      <td>2.68</td>\n",
       "      <td>9.0</td>\n",
       "      <td>111</td>\n",
       "      <td>5000</td>\n",
       "      <td>21</td>\n",
       "      <td>27</td>\n",
       "      <td>16500</td>\n",
       "    </tr>\n",
       "    <tr>\n",
       "      <th>2</th>\n",
       "      <td>1</td>\n",
       "      <td>?</td>\n",
       "      <td>alfa-romero</td>\n",
       "      <td>gas</td>\n",
       "      <td>std</td>\n",
       "      <td>two</td>\n",
       "      <td>hatchback</td>\n",
       "      <td>rwd</td>\n",
       "      <td>front</td>\n",
       "      <td>94.5</td>\n",
       "      <td>...</td>\n",
       "      <td>152</td>\n",
       "      <td>mpfi</td>\n",
       "      <td>2.68</td>\n",
       "      <td>3.47</td>\n",
       "      <td>9.0</td>\n",
       "      <td>154</td>\n",
       "      <td>5000</td>\n",
       "      <td>19</td>\n",
       "      <td>26</td>\n",
       "      <td>16500</td>\n",
       "    </tr>\n",
       "    <tr>\n",
       "      <th>3</th>\n",
       "      <td>2</td>\n",
       "      <td>164</td>\n",
       "      <td>audi</td>\n",
       "      <td>gas</td>\n",
       "      <td>std</td>\n",
       "      <td>four</td>\n",
       "      <td>sedan</td>\n",
       "      <td>fwd</td>\n",
       "      <td>front</td>\n",
       "      <td>99.8</td>\n",
       "      <td>...</td>\n",
       "      <td>109</td>\n",
       "      <td>mpfi</td>\n",
       "      <td>3.19</td>\n",
       "      <td>3.40</td>\n",
       "      <td>10.0</td>\n",
       "      <td>102</td>\n",
       "      <td>5500</td>\n",
       "      <td>24</td>\n",
       "      <td>30</td>\n",
       "      <td>13950</td>\n",
       "    </tr>\n",
       "    <tr>\n",
       "      <th>4</th>\n",
       "      <td>2</td>\n",
       "      <td>164</td>\n",
       "      <td>audi</td>\n",
       "      <td>gas</td>\n",
       "      <td>std</td>\n",
       "      <td>four</td>\n",
       "      <td>sedan</td>\n",
       "      <td>4wd</td>\n",
       "      <td>front</td>\n",
       "      <td>99.4</td>\n",
       "      <td>...</td>\n",
       "      <td>136</td>\n",
       "      <td>mpfi</td>\n",
       "      <td>3.19</td>\n",
       "      <td>3.40</td>\n",
       "      <td>8.0</td>\n",
       "      <td>115</td>\n",
       "      <td>5500</td>\n",
       "      <td>18</td>\n",
       "      <td>22</td>\n",
       "      <td>17450</td>\n",
       "    </tr>\n",
       "  </tbody>\n",
       "</table>\n",
       "<p>5 rows × 26 columns</p>\n",
       "</div>"
      ],
      "text/plain": [
       "   symboling normalized-losses         make fuel-type aspiration num-of-doors  \\\n",
       "0          3                 ?  alfa-romero       gas        std          two   \n",
       "1          3                 ?  alfa-romero       gas        std          two   \n",
       "2          1                 ?  alfa-romero       gas        std          two   \n",
       "3          2               164         audi       gas        std         four   \n",
       "4          2               164         audi       gas        std         four   \n",
       "\n",
       "    body-style drive-wheels engine-location  wheel-base  ...  engine-size  \\\n",
       "0  convertible          rwd           front        88.6  ...          130   \n",
       "1  convertible          rwd           front        88.6  ...          130   \n",
       "2    hatchback          rwd           front        94.5  ...          152   \n",
       "3        sedan          fwd           front        99.8  ...          109   \n",
       "4        sedan          4wd           front        99.4  ...          136   \n",
       "\n",
       "   fuel-system  bore  stroke compression-ratio horsepower  peak-rpm city-mpg  \\\n",
       "0         mpfi  3.47    2.68               9.0        111      5000       21   \n",
       "1         mpfi  3.47    2.68               9.0        111      5000       21   \n",
       "2         mpfi  2.68    3.47               9.0        154      5000       19   \n",
       "3         mpfi  3.19    3.40              10.0        102      5500       24   \n",
       "4         mpfi  3.19    3.40               8.0        115      5500       18   \n",
       "\n",
       "  highway-mpg  price  \n",
       "0          27  13495  \n",
       "1          27  16500  \n",
       "2          26  16500  \n",
       "3          30  13950  \n",
       "4          22  17450  \n",
       "\n",
       "[5 rows x 26 columns]"
      ]
     },
     "execution_count": 24,
     "metadata": {},
     "output_type": "execute_result"
    }
   ],
   "source": [
    "automobile_df = pd.read_csv('datasets/imports-85.data',sep=r'\\s*,\\s*',engine='python',header=None,\n",
    "                            names=['symboling',    'normalized-losses', 'make', 'fuel-type', 'aspiration',\n",
    "                                   'num-of-doors', 'body-style', 'drive-wheels', 'engine-location',\n",
    "                                   'wheel-base', 'length', 'width', 'height', 'curb-weight', 'engine-type',\n",
    "                                   'num-of-cylinders', 'engine-size', 'fuel-system', 'bore', 'stroke',\n",
    "                                   'compression-ratio', 'horsepower', 'peak-rpm', 'city-mpg', 'highway-mpg',\n",
    "                                   'price'])\n",
    "automobile_df.head()"
   ]
  },
  {
   "cell_type": "code",
   "execution_count": 25,
   "metadata": {},
   "outputs": [],
   "source": [
    "automobile_df = automobile_df.replace('?', np.nan)\n",
    "automobile_df = automobile_df.dropna()"
   ]
  },
  {
   "cell_type": "code",
   "execution_count": 26,
   "metadata": {},
   "outputs": [
    {
     "data": {
      "text/html": [
       "<div>\n",
       "<style scoped>\n",
       "    .dataframe tbody tr th:only-of-type {\n",
       "        vertical-align: middle;\n",
       "    }\n",
       "\n",
       "    .dataframe tbody tr th {\n",
       "        vertical-align: top;\n",
       "    }\n",
       "\n",
       "    .dataframe thead th {\n",
       "        text-align: right;\n",
       "    }\n",
       "</style>\n",
       "<table border=\"1\" class=\"dataframe\">\n",
       "  <thead>\n",
       "    <tr style=\"text-align: right;\">\n",
       "      <th></th>\n",
       "      <th>engine-size</th>\n",
       "      <th>wheel-base</th>\n",
       "      <th>stroke</th>\n",
       "      <th>highway-mpg</th>\n",
       "    </tr>\n",
       "  </thead>\n",
       "  <tbody>\n",
       "    <tr>\n",
       "      <th>3</th>\n",
       "      <td>109</td>\n",
       "      <td>99.8</td>\n",
       "      <td>3.40</td>\n",
       "      <td>30</td>\n",
       "    </tr>\n",
       "    <tr>\n",
       "      <th>4</th>\n",
       "      <td>136</td>\n",
       "      <td>99.4</td>\n",
       "      <td>3.40</td>\n",
       "      <td>22</td>\n",
       "    </tr>\n",
       "    <tr>\n",
       "      <th>6</th>\n",
       "      <td>136</td>\n",
       "      <td>105.8</td>\n",
       "      <td>3.40</td>\n",
       "      <td>25</td>\n",
       "    </tr>\n",
       "    <tr>\n",
       "      <th>8</th>\n",
       "      <td>131</td>\n",
       "      <td>105.8</td>\n",
       "      <td>3.40</td>\n",
       "      <td>20</td>\n",
       "    </tr>\n",
       "    <tr>\n",
       "      <th>10</th>\n",
       "      <td>108</td>\n",
       "      <td>101.2</td>\n",
       "      <td>2.80</td>\n",
       "      <td>29</td>\n",
       "    </tr>\n",
       "  </tbody>\n",
       "</table>\n",
       "</div>"
      ],
      "text/plain": [
       "    engine-size  wheel-base stroke  highway-mpg\n",
       "3           109        99.8   3.40           30\n",
       "4           136        99.4   3.40           22\n",
       "6           136       105.8   3.40           25\n",
       "8           131       105.8   3.40           20\n",
       "10          108       101.2   2.80           29"
      ]
     },
     "execution_count": 26,
     "metadata": {},
     "output_type": "execute_result"
    }
   ],
   "source": [
    "automobile_df = automobile_df[['engine-size','wheel-base','stroke','highway-mpg']]\n",
    "automobile_df.head()"
   ]
  },
  {
   "cell_type": "code",
   "execution_count": 27,
   "metadata": {},
   "outputs": [
    {
     "data": {
      "text/html": [
       "<div>\n",
       "<style scoped>\n",
       "    .dataframe tbody tr th:only-of-type {\n",
       "        vertical-align: middle;\n",
       "    }\n",
       "\n",
       "    .dataframe tbody tr th {\n",
       "        vertical-align: top;\n",
       "    }\n",
       "\n",
       "    .dataframe thead th {\n",
       "        text-align: right;\n",
       "    }\n",
       "</style>\n",
       "<table border=\"1\" class=\"dataframe\">\n",
       "  <thead>\n",
       "    <tr style=\"text-align: right;\">\n",
       "      <th></th>\n",
       "      <th>engine-size</th>\n",
       "      <th>wheel-base</th>\n",
       "      <th>highway-mpg</th>\n",
       "    </tr>\n",
       "  </thead>\n",
       "  <tbody>\n",
       "    <tr>\n",
       "      <th>count</th>\n",
       "      <td>159.000000</td>\n",
       "      <td>159.000000</td>\n",
       "      <td>159.000000</td>\n",
       "    </tr>\n",
       "    <tr>\n",
       "      <th>mean</th>\n",
       "      <td>119.226415</td>\n",
       "      <td>98.264151</td>\n",
       "      <td>32.081761</td>\n",
       "    </tr>\n",
       "    <tr>\n",
       "      <th>std</th>\n",
       "      <td>30.460791</td>\n",
       "      <td>5.167416</td>\n",
       "      <td>6.459189</td>\n",
       "    </tr>\n",
       "    <tr>\n",
       "      <th>min</th>\n",
       "      <td>61.000000</td>\n",
       "      <td>86.600000</td>\n",
       "      <td>18.000000</td>\n",
       "    </tr>\n",
       "    <tr>\n",
       "      <th>25%</th>\n",
       "      <td>97.000000</td>\n",
       "      <td>94.500000</td>\n",
       "      <td>28.000000</td>\n",
       "    </tr>\n",
       "    <tr>\n",
       "      <th>50%</th>\n",
       "      <td>110.000000</td>\n",
       "      <td>96.900000</td>\n",
       "      <td>32.000000</td>\n",
       "    </tr>\n",
       "    <tr>\n",
       "      <th>75%</th>\n",
       "      <td>135.000000</td>\n",
       "      <td>100.800000</td>\n",
       "      <td>37.000000</td>\n",
       "    </tr>\n",
       "    <tr>\n",
       "      <th>max</th>\n",
       "      <td>258.000000</td>\n",
       "      <td>115.600000</td>\n",
       "      <td>54.000000</td>\n",
       "    </tr>\n",
       "  </tbody>\n",
       "</table>\n",
       "</div>"
      ],
      "text/plain": [
       "       engine-size  wheel-base  highway-mpg\n",
       "count   159.000000  159.000000   159.000000\n",
       "mean    119.226415   98.264151    32.081761\n",
       "std      30.460791    5.167416     6.459189\n",
       "min      61.000000   86.600000    18.000000\n",
       "25%      97.000000   94.500000    28.000000\n",
       "50%     110.000000   96.900000    32.000000\n",
       "75%     135.000000  100.800000    37.000000\n",
       "max     258.000000  115.600000    54.000000"
      ]
     },
     "execution_count": 27,
     "metadata": {},
     "output_type": "execute_result"
    }
   ],
   "source": [
    "automobile_df.describe()"
   ]
  },
  {
   "cell_type": "code",
   "execution_count": 28,
   "metadata": {},
   "outputs": [],
   "source": [
    "auto_arr = automobile_df.values[:20]"
   ]
  },
  {
   "cell_type": "code",
   "execution_count": 29,
   "metadata": {},
   "outputs": [],
   "source": [
    "auto_arr = auto_arr.astype(np.float64)"
   ]
  },
  {
   "cell_type": "code",
   "execution_count": 32,
   "metadata": {},
   "outputs": [
    {
     "data": {
      "text/plain": [
       "array([[109.  ,  99.8 ,   3.4 ,  30.  ],\n",
       "       [136.  ,  99.4 ,   3.4 ,  22.  ],\n",
       "       [136.  , 105.8 ,   3.4 ,  25.  ],\n",
       "       [131.  , 105.8 ,   3.4 ,  20.  ],\n",
       "       [108.  , 101.2 ,   2.8 ,  29.  ],\n",
       "       [108.  , 101.2 ,   2.8 ,  29.  ],\n",
       "       [164.  , 101.2 ,   3.19,  28.  ],\n",
       "       [164.  , 101.2 ,   3.19,  28.  ],\n",
       "       [ 61.  ,  88.4 ,   3.03,  53.  ],\n",
       "       [ 90.  ,  94.5 ,   3.11,  43.  ],\n",
       "       [ 90.  ,  94.5 ,   3.11,  43.  ],\n",
       "       [ 90.  ,  93.7 ,   3.23,  41.  ],\n",
       "       [ 90.  ,  93.7 ,   3.23,  38.  ],\n",
       "       [ 98.  ,  93.7 ,   3.39,  30.  ],\n",
       "       [ 90.  ,  93.7 ,   3.23,  38.  ],\n",
       "       [ 90.  ,  93.7 ,   3.23,  38.  ],\n",
       "       [ 90.  ,  93.7 ,   3.23,  38.  ],\n",
       "       [122.  , 103.3 ,   3.46,  30.  ],\n",
       "       [156.  ,  95.9 ,   3.9 ,  24.  ],\n",
       "       [ 92.  ,  86.6 ,   3.41,  54.  ]])"
      ]
     },
     "execution_count": 32,
     "metadata": {},
     "output_type": "execute_result"
    }
   ],
   "source": [
    "auto_arr"
   ]
  },
  {
   "cell_type": "code",
   "execution_count": 33,
   "metadata": {},
   "outputs": [],
   "source": [
    "from sklearn.preprocessing import StandardScaler\n",
    "scaler = StandardScaler()\n",
    "auto_arr_scaled = scaler.fit_transform(auto_arr)"
   ]
  },
  {
   "cell_type": "code",
   "execution_count": 34,
   "metadata": {},
   "outputs": [
    {
     "data": {
      "text/plain": [
       "array([[-0.06275718,  0.52931127,  0.60902918, -0.43584306],\n",
       "       [ 0.90549644,  0.45232054,  0.60902918, -1.29676764],\n",
       "       [ 0.90549644,  1.68417221,  0.60902918, -0.97392092],\n",
       "       [ 0.72619021,  1.68417221,  0.60902918, -1.51199878],\n",
       "       [-0.09861842,  0.79877882, -1.94633801, -0.54345864],\n",
       "       [-0.09861842,  0.79877882, -1.94633801, -0.54345864],\n",
       "       [ 1.9096113 ,  0.79877882, -0.28534934, -0.65107421],\n",
       "       [ 1.9096113 ,  0.79877882, -0.28534934, -0.65107421],\n",
       "       [-1.78409695, -1.66492453, -0.96678059,  2.03931508],\n",
       "       [-0.74412084, -0.4908159 , -0.62606496,  0.96315936],\n",
       "       [-0.74412084, -0.4908159 , -0.62606496,  0.96315936],\n",
       "       [-0.74412084, -0.64479736, -0.11499152,  0.74792822],\n",
       "       [-0.74412084, -0.64479736, -0.11499152,  0.42508151],\n",
       "       [-0.45723088, -0.64479736,  0.56643973, -0.43584306],\n",
       "       [-0.74412084, -0.64479736, -0.11499152,  0.42508151],\n",
       "       [-0.74412084, -0.64479736, -0.11499152,  0.42508151],\n",
       "       [-0.74412084, -0.64479736, -0.11499152,  0.42508151],\n",
       "       [ 0.40343901,  1.20298015,  0.8645659 , -0.43584306],\n",
       "       [ 1.62272134, -0.22134835,  2.73850185, -1.08153649],\n",
       "       [-0.67239835, -2.01138282,  0.65161864,  2.14693065]])"
      ]
     },
     "execution_count": 34,
     "metadata": {},
     "output_type": "execute_result"
    }
   ],
   "source": [
    "auto_arr_scaled"
   ]
  },
  {
   "cell_type": "raw",
   "metadata": {},
   "source": []
  },
  {
   "cell_type": "code",
   "execution_count": 35,
   "metadata": {},
   "outputs": [],
   "source": [
    "results = PCA(n_components=4)"
   ]
  },
  {
   "cell_type": "code",
   "execution_count": 36,
   "metadata": {},
   "outputs": [],
   "source": [
    "Y = results.fit_transform(auto_arr_scaled)"
   ]
  },
  {
   "cell_type": "code",
   "execution_count": 37,
   "metadata": {},
   "outputs": [
    {
     "data": {
      "text/plain": [
       "array([0.66430416, 0.25053532, 0.05963265, 0.02552787])"
      ]
     },
     "execution_count": 37,
     "metadata": {},
     "output_type": "execute_result"
    }
   ],
   "source": [
    "results.explained_variance_ratio_"
   ]
  },
  {
   "cell_type": "code",
   "execution_count": 38,
   "metadata": {},
   "outputs": [
    {
     "data": {
      "text/plain": [
       "array([[-0.55800206, -0.53872398, -0.24219443,  0.58288252],\n",
       "       [ 0.10476258, -0.39758628,  0.90503881,  0.1088793 ],\n",
       "       [ 0.82316135, -0.321092  , -0.28137631,  0.37434301],\n",
       "       [ 0.0079931 ,  0.66977724,  0.2075427 ,  0.71292397]])"
      ]
     },
     "execution_count": 38,
     "metadata": {},
     "output_type": "execute_result"
    }
   ],
   "source": [
    "results.components_"
   ]
  },
  {
   "cell_type": "code",
   "execution_count": 39,
   "metadata": {},
   "outputs": [
    {
     "data": {
      "text/plain": [
       "array([[-0.06275718,  0.52931127,  0.60902918, -0.43584306],\n",
       "       [ 0.90549644,  0.45232054,  0.60902918, -1.29676764],\n",
       "       [ 0.90549644,  1.68417221,  0.60902918, -0.97392092],\n",
       "       [ 0.72619021,  1.68417221,  0.60902918, -1.51199878],\n",
       "       [-0.09861842,  0.79877882, -1.94633801, -0.54345864],\n",
       "       [-0.09861842,  0.79877882, -1.94633801, -0.54345864],\n",
       "       [ 1.9096113 ,  0.79877882, -0.28534934, -0.65107421],\n",
       "       [ 1.9096113 ,  0.79877882, -0.28534934, -0.65107421],\n",
       "       [-1.78409695, -1.66492453, -0.96678059,  2.03931508],\n",
       "       [-0.74412084, -0.4908159 , -0.62606496,  0.96315936],\n",
       "       [-0.74412084, -0.4908159 , -0.62606496,  0.96315936],\n",
       "       [-0.74412084, -0.64479736, -0.11499152,  0.74792822],\n",
       "       [-0.74412084, -0.64479736, -0.11499152,  0.42508151],\n",
       "       [-0.45723088, -0.64479736,  0.56643973, -0.43584306],\n",
       "       [-0.74412084, -0.64479736, -0.11499152,  0.42508151],\n",
       "       [-0.74412084, -0.64479736, -0.11499152,  0.42508151],\n",
       "       [-0.74412084, -0.64479736, -0.11499152,  0.42508151],\n",
       "       [ 0.40343901,  1.20298015,  0.8645659 , -0.43584306],\n",
       "       [ 1.62272134, -0.22134835,  2.73850185, -1.08153649],\n",
       "       [-0.67239835, -2.01138282,  0.65161864,  2.14693065]])"
      ]
     },
     "execution_count": 39,
     "metadata": {},
     "output_type": "execute_result"
    }
   ],
   "source": [
    "np.dot(Y,results.components_)"
   ]
  },
  {
   "cell_type": "code",
   "execution_count": 40,
   "metadata": {},
   "outputs": [
    {
     "data": {
      "text/plain": [
       "array([[-0.06275718,  0.52931127,  0.60902918, -0.43584306],\n",
       "       [ 0.90549644,  0.45232054,  0.60902918, -1.29676764],\n",
       "       [ 0.90549644,  1.68417221,  0.60902918, -0.97392092],\n",
       "       [ 0.72619021,  1.68417221,  0.60902918, -1.51199878],\n",
       "       [-0.09861842,  0.79877882, -1.94633801, -0.54345864],\n",
       "       [-0.09861842,  0.79877882, -1.94633801, -0.54345864],\n",
       "       [ 1.9096113 ,  0.79877882, -0.28534934, -0.65107421],\n",
       "       [ 1.9096113 ,  0.79877882, -0.28534934, -0.65107421],\n",
       "       [-1.78409695, -1.66492453, -0.96678059,  2.03931508],\n",
       "       [-0.74412084, -0.4908159 , -0.62606496,  0.96315936],\n",
       "       [-0.74412084, -0.4908159 , -0.62606496,  0.96315936],\n",
       "       [-0.74412084, -0.64479736, -0.11499152,  0.74792822],\n",
       "       [-0.74412084, -0.64479736, -0.11499152,  0.42508151],\n",
       "       [-0.45723088, -0.64479736,  0.56643973, -0.43584306],\n",
       "       [-0.74412084, -0.64479736, -0.11499152,  0.42508151],\n",
       "       [-0.74412084, -0.64479736, -0.11499152,  0.42508151],\n",
       "       [-0.74412084, -0.64479736, -0.11499152,  0.42508151],\n",
       "       [ 0.40343901,  1.20298015,  0.8645659 , -0.43584306],\n",
       "       [ 1.62272134, -0.22134835,  2.73850185, -1.08153649],\n",
       "       [-0.67239835, -2.01138282,  0.65161864,  2.14693065]])"
      ]
     },
     "execution_count": 40,
     "metadata": {},
     "output_type": "execute_result"
    }
   ],
   "source": [
    "auto_arr_scaled"
   ]
  },
  {
   "cell_type": "code",
   "execution_count": null,
   "metadata": {},
   "outputs": [],
   "source": []
  },
  {
   "cell_type": "code",
   "execution_count": 45,
   "metadata": {},
   "outputs": [],
   "source": [
    "NUM_INPUTS=4\n",
    "NUM_HIDDEN=3 # Codings. Must be less than input\n",
    "NUM_OUTPUTS=NUM_INPUTS"
   ]
  },
  {
   "cell_type": "code",
   "execution_count": 46,
   "metadata": {},
   "outputs": [],
   "source": [
    "tf.reset_default_graph()\n",
    "\n",
    "X      = tf.placeholder(tf.float64,shape=[None,NUM_INPUTS])\n",
    "hidden = tf.layers.dense(X, NUM_HIDDEN) # No activation specified. Default = linear\n",
    "outputs= tf.layers.dense(hidden, NUM_OUTPUTS) # Fully connected layer\n",
    "\n",
    "reconstruction_loss = tf.reduce_mean(tf.square(outputs - X))\n",
    "\n",
    "optimizer   = tf.train.AdamOptimizer(0.01) # 0.01 is the learning rate\n",
    "training_op = optimizer.minimize(reconstruction_loss)\n",
    "\n",
    "init = tf.global_variables_initializer()"
   ]
  },
  {
   "cell_type": "code",
   "execution_count": 47,
   "metadata": {},
   "outputs": [
    {
     "name": "stdout",
     "output_type": "stream",
     "text": [
      "[[-0.06458525  0.41641488  0.57236628 -0.55744884]\n",
      " [ 0.90840889  0.78080732  0.70723687 -0.95023739]\n",
      " [ 0.89969915  1.30646623  0.48722572 -1.38018086]\n",
      " [ 0.72331227  1.56463765  0.56667817 -1.64402831]\n",
      " [-0.0965788   0.97125635 -1.89287096 -0.36049285]\n",
      " [-0.0965788   0.97125635 -1.89287096 -0.36049285]\n",
      " [ 1.90850831  0.78243375 -0.29374131 -0.6714303 ]\n",
      " [ 1.90850831  0.78243375 -0.29374131 -0.6714303 ]\n",
      " [-1.7831908  -1.75136693 -0.98624778  1.95373393]\n",
      " [-0.74508894 -0.64101465 -0.66945809  0.80599275]\n",
      " [-0.74508894 -0.64101465 -0.66945809  0.80599275]\n",
      " [-0.74403105 -0.69399325 -0.12760155  0.6979309 ]\n",
      " [-0.74231092 -0.5396201  -0.08019072  0.53898487]\n",
      " [-0.45220132 -0.22389095  0.6971088   0.01248327]\n",
      " [-0.74231092 -0.5396201  -0.08019072  0.53898487]\n",
      " [-0.74231092 -0.5396201  -0.08019072  0.53898487]\n",
      " [-0.74231092 -0.5396201  -0.08019072  0.53898487]\n",
      " [ 0.39717079  0.75056703  0.72118316 -0.92011506]\n",
      " [ 1.62408893  0.00709289  2.80442565 -0.84192905]\n",
      " [-0.67347317 -2.22404232  0.59126768  1.92600777]]\n"
     ]
    }
   ],
   "source": [
    "with tf.Session() as sess:\n",
    "    init.run()\n",
    "    for iteration in range(10000):\n",
    "        training_op.run(feed_dict={X: auto_arr_scaled})\n",
    "    outputs_val = outputs.eval(feed_dict={X: auto_arr_scaled})\n",
    "    print (outputs_val)"
   ]
  },
  {
   "cell_type": "code",
   "execution_count": 48,
   "metadata": {},
   "outputs": [
    {
     "data": {
      "text/plain": [
       "array([[-0.06411357,  0.41565301,  0.5738101 , -0.55682313],\n",
       "       [ 0.90939632,  0.7791085 ,  0.7102904 , -0.94892816],\n",
       "       [ 0.90096175,  1.30419021,  0.49128482, -1.37838118],\n",
       "       [ 0.7247332 ,  1.56208245,  0.57119744, -1.6419535 ],\n",
       "       [-0.09656278,  0.97103035, -1.89296274, -0.36011075],\n",
       "       [-0.09656278,  0.97103035, -1.89296274, -0.36011075],\n",
       "       [ 1.90939646,  0.78077587, -0.29092788, -0.6702369 ],\n",
       "       [ 1.90939646,  0.78077587, -0.29092788, -0.6702369 ],\n",
       "       [-1.78508681, -1.74786928, -0.99248253,  1.95102707],\n",
       "       [-0.74589562, -0.63953259, -0.67214754,  0.80486242],\n",
       "       [-0.74589562, -0.63953259, -0.67214754,  0.80486242],\n",
       "       [-0.7446926 , -0.69270778, -0.12983744,  0.69693144],\n",
       "       [-0.74285287, -0.5385484 , -0.08206834,  0.53817498],\n",
       "       [-0.45220571, -0.22371656,  0.6969193 ,  0.01236355],\n",
       "       [-0.74285287, -0.5385484 , -0.08206834,  0.53817498],\n",
       "       [-0.74285287, -0.5385484 , -0.08206834,  0.53817498],\n",
       "       [-0.74285287, -0.5385484 , -0.08206834,  0.53817498],\n",
       "       [ 0.39802237,  0.74909567,  0.72392151, -0.91896657],\n",
       "       [ 1.62542286,  0.00502345,  2.80864728, -0.84058194],\n",
       "       [-0.67490246, -2.22121333,  0.58659882,  1.92358296]])"
      ]
     },
     "execution_count": 48,
     "metadata": {},
     "output_type": "execute_result"
    }
   ],
   "source": [
    "np.dot(Y[:,[0,1,2]], results.components_[[0,1,2]])"
   ]
  },
  {
   "cell_type": "code",
   "execution_count": 55,
   "metadata": {},
   "outputs": [
    {
     "data": {
      "text/plain": [
       "array([[-0.65168282,  0.28671926, -0.55613809,  0.16969561],\n",
       "       [-1.65231146,  0.32502961, -0.05666912, -0.48790544]])"
      ]
     },
     "execution_count": 55,
     "metadata": {},
     "output_type": "execute_result"
    }
   ],
   "source": [
    "Y[:2]"
   ]
  },
  {
   "cell_type": "code",
   "execution_count": 58,
   "metadata": {},
   "outputs": [
    {
     "data": {
      "text/plain": [
       "array([[-0.65168282,  0.28671926, -0.55613809],\n",
       "       [-1.65231146,  0.32502961, -0.05666912]])"
      ]
     },
     "execution_count": 58,
     "metadata": {},
     "output_type": "execute_result"
    }
   ],
   "source": [
    "Y[:2,[0,1,2]]"
   ]
  },
  {
   "cell_type": "code",
   "execution_count": 60,
   "metadata": {},
   "outputs": [
    {
     "data": {
      "text/plain": [
       "array([[-0.55800206, -0.53872398, -0.24219443,  0.58288252],\n",
       "       [ 0.10476258, -0.39758628,  0.90503881,  0.1088793 ],\n",
       "       [ 0.82316135, -0.321092  , -0.28137631,  0.37434301],\n",
       "       [ 0.0079931 ,  0.66977724,  0.2075427 ,  0.71292397]])"
      ]
     },
     "execution_count": 60,
     "metadata": {},
     "output_type": "execute_result"
    }
   ],
   "source": [
    "results.components_"
   ]
  },
  {
   "cell_type": "code",
   "execution_count": null,
   "metadata": {},
   "outputs": [],
   "source": []
  }
 ],
 "metadata": {
  "kernelspec": {
   "display_name": "Python 3",
   "language": "python",
   "name": "python3"
  },
  "language_info": {
   "codemirror_mode": {
    "name": "ipython",
    "version": 3
   },
   "file_extension": ".py",
   "mimetype": "text/x-python",
   "name": "python",
   "nbconvert_exporter": "python",
   "pygments_lexer": "ipython3",
   "version": "3.6.8"
  }
 },
 "nbformat": 4,
 "nbformat_minor": 2
}
